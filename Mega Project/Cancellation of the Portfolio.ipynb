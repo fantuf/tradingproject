{
 "cells": [
  {
   "cell_type": "code",
   "execution_count": 1,
   "metadata": {},
   "outputs": [],
   "source": [
    "import pandas as pd\n",
    "from ib_insync import *\n",
    "from ib_insync import IB, util"
   ]
  },
  {
   "cell_type": "code",
   "execution_count": 2,
   "metadata": {},
   "outputs": [],
   "source": [
    "# Starts a loop of the event processing\n",
    "util.startLoop()\n",
    "# Account Summary\n",
    "ib = IB()\n",
    "ib.connect('127.0.0.1', 7497, clientId=0) #Port 7496 is reserved for real account, while 7497 for demo\n",
    "myAccount = ib.accountSummary()"
   ]
  },
  {
   "cell_type": "code",
   "execution_count": 3,
   "metadata": {},
   "outputs": [
    {
     "data": {
      "text/plain": [
       "True"
      ]
     },
     "execution_count": 3,
     "metadata": {},
     "output_type": "execute_result"
    }
   ],
   "source": [
    "# Fetch all open orders\n",
    "open_orders = ib.openOrders()\n",
    "\n",
    "# Cancel all open orders\n",
    "for order in open_orders:\n",
    "    ib.cancelOrder(order)\n",
    "\n",
    "# Wait briefly to ensure cancellation completes\n",
    "ib.sleep(1)"
   ]
  },
  {
   "cell_type": "code",
   "execution_count": 4,
   "metadata": {},
   "outputs": [
    {
     "name": "stdout",
     "output_type": "stream",
     "text": [
      "Placed market buy order to cover short for JPM: 317.0 shares\n",
      "Placed market buy order to cover short for PNC: 493.0 shares\n",
      "Placed market buy order to cover short for ADP: 174.0 shares\n",
      "Placed market sell order for FTV: 7.0 shares\n",
      "Placed market buy order to cover short for XOM: 389.0 shares\n"
     ]
    }
   ],
   "source": [
    "# Function to fetch portfolio holdings\n",
    "def fetch_portfolio():\n",
    "    positions = ib.reqPositions()\n",
    "    portfolio = {p.contract.symbol: p.position for p in positions}\n",
    "    return portfolio\n",
    "\n",
    "# Function to execute sell and buy orders to close positions\n",
    "def close_positions(portfolio):\n",
    "    for symbol, quantity in portfolio.items():\n",
    "        if quantity > 0:\n",
    "            # Closing long position (sell)\n",
    "            contract = Contract()\n",
    "            contract.symbol = symbol\n",
    "            contract.exchange = 'SMART'\n",
    "            contract.currency = 'USD'\n",
    "            contract.secType = 'STK'\n",
    "            \n",
    "            sell_order = MarketOrder(action='SELL', totalQuantity=quantity)\n",
    "            ib.placeOrder(contract, sell_order)\n",
    "            print(f\"Placed market sell order for {symbol}: {quantity} shares\")\n",
    "        \n",
    "        elif quantity < 0:\n",
    "            # Closing short position (buy)\n",
    "            contract = Contract()\n",
    "            contract.symbol = symbol\n",
    "            contract.exchange = 'SMART'\n",
    "            contract.currency = 'USD'\n",
    "            contract.secType = 'STK'\n",
    "            \n",
    "            buy_order = MarketOrder(action='BUY', totalQuantity=-quantity)  # Ensure quantity is positive for buy order\n",
    "            ib.placeOrder(contract, buy_order)\n",
    "            print(f\"Placed market buy order to cover short for {symbol}: {-quantity} shares\")\n",
    "\n",
    "# Fetch portfolio holdings\n",
    "portfolio = fetch_portfolio()\n",
    "\n",
    "# Execute sell and buy orders to close positions\n",
    "close_positions(portfolio)"
   ]
  },
  {
   "cell_type": "markdown",
   "metadata": {},
   "source": [
    "#### Incert the value that you saved from the Formation code"
   ]
  },
  {
   "cell_type": "code",
   "execution_count": 5,
   "metadata": {},
   "outputs": [
    {
     "name": "stdout",
     "output_type": "stream",
     "text": [
      "[-0.50641887]\n"
     ]
    }
   ],
   "source": [
    "# Portfolio Value at the end of the year\n",
    "myportfoliovalue_end_af = [myAccount[29].value]\n",
    "\n",
    "# Convert to numeric (float)\n",
    "myportfoliovalue_end_af = pd.to_numeric(myportfoliovalue_end_af)\n",
    "# Incert the value that you saved from the Formation code\n",
    "myportfoliovalue_begin_tcv = pd.to_numeric(2500000)\n",
    "\n",
    "# Calculate yearly return\n",
    "myyearlyreturn = myportfoliovalue_end_af / myportfoliovalue_begin_tcv - 1\n",
    "print(myyearlyreturn)"
   ]
  }
 ],
 "metadata": {
  "kernelspec": {
   "display_name": "Python 3",
   "language": "python",
   "name": "python3"
  },
  "language_info": {
   "codemirror_mode": {
    "name": "ipython",
    "version": 3
   },
   "file_extension": ".py",
   "mimetype": "text/x-python",
   "name": "python",
   "nbconvert_exporter": "python",
   "pygments_lexer": "ipython3",
   "version": "3.11.9"
  }
 },
 "nbformat": 4,
 "nbformat_minor": 2
}
